{
  "nbformat": 4,
  "nbformat_minor": 0,
  "metadata": {
    "colab": {
      "name": "[PROJETO] - Classificador de Fake News.ipynb",
      "provenance": [],
      "collapsed_sections": [],
      "authorship_tag": "ABX9TyP3qDgZHV7IJSpMupEqCd33",
      "include_colab_link": true
    },
    "kernelspec": {
      "name": "python3",
      "display_name": "Python 3"
    }
  },
  "cells": [
    {
      "cell_type": "markdown",
      "metadata": {
        "id": "view-in-github",
        "colab_type": "text"
      },
      "source": [
        "<a href=\"https://colab.research.google.com/github/HebertMachado/data_science/blob/master/%5BPROJETO%5D_Classificador_de_Fake_News.ipynb\" target=\"_parent\"><img src=\"https://colab.research.google.com/assets/colab-badge.svg\" alt=\"Open In Colab\"/></a>"
      ]
    },
    {
      "cell_type": "markdown",
      "metadata": {
        "id": "ct_pDSqQA7ie"
      },
      "source": [
        "# Classificador de Fake News\n",
        "\n",
        "\n",
        "Vivemos na era digital, onde a informação está mais acessível do que nunca, e continua ficando cada vez mais acessível, de forma mais ágil e ampla.\n",
        "\n",
        "Apesar dos benefícios que isso traz, também existem problemas e riscos com isso. Aqui, vamos nos preocupar com um dos maiores deles: ***Fake News***\n",
        "<p align=center>\n",
        "  <img src=\"https://image.freepik.com/free-photo/woman-reading-newspaper_53876-13446.jpg\" height=\"30%\">\n",
        "</p>\n",
        "\n",
        "Com certeza você já se deparou com uma dessas. Em uma era de informação, a desinformação acaba sendo o nosso maior problema.\n",
        "\n",
        "Em suma, ***Fake News*** são, como a tradução literal sugere, Notícias Falsas. Elas podem ir desde um número diferente em uma estatística apresentada, até a notícia de uma acontecimento completamente falso."
      ]
    },
    {
      "cell_type": "markdown",
      "metadata": {
        "id": "nxZXJmtNBDlk"
      },
      "source": [
        "## Como isso influencia nossa vida?\n",
        "\n",
        "Como de costume, nós tendemos a acreditar nos grandes veículos de mídia, ou de pessoas do nosso ciclo de amigos que nos encaminham notícias em redes sociais. Dessa forma, criamos o hábito de não checar nossas fontes, e assim, acreditamos e disseminamos notícias falsas, às vezes sem nem saber.\n",
        "\n",
        "Isso se torna um grande problema quando afeta o resultado de algo importante no bem comum de nossa sociedade, como resultados de eleições, opinião pública sobre determinados projetos, políticas públicas, e até pessoas públicas, sejam elas do meio político, artístico, jornalístico, ou qualquer outro."
      ]
    },
    {
      "cell_type": "markdown",
      "metadata": {
        "id": "Ok51z63HBH_C"
      },
      "source": [
        "## O Projeto\n",
        "\n",
        "Hoje em dia, podemos contar com ferramentas que nos ajudem a identificar e filtrar notícias falsas. Com técnicas de *Machine Learninr* como **Redes Neurais** essa tarefa de vasculhar diversas fontes de notícias para descobrir o que é falso e o que é factual fica mais fácil.\n",
        "\n",
        "> O objetivo do projeto é treinar um modelo que seja capaz de classificar notícias, com a melhor acurácia possível, entre falsas ou factuais.\n",
        "\n",
        "Para isso, usaremos a biblioteca ***Tensorflow*** para treinar Redes Neurais que façam esse trabalho por nós."
      ]
    },
    {
      "cell_type": "code",
      "metadata": {
        "id": "WsISC0OnBMpb"
      },
      "source": [
        "# importando os pacotes necessarios\n",
        "import pandas as pd\n",
        "import numpy as np\n",
        "import matplotlib.pyplot as plt\n",
        "import seaborn as sns\n",
        "%tensorflow_version 2.x\n",
        "import tensorflow as tf\n",
        "from tensorflow import keras\n",
        "\n",
        "# configurando o notebook\n",
        "np.random.seed(42)\n",
        "sns.set_style()\n",
        "\n",
        "# filtrar mensagens de warning\n",
        "import warnings\n",
        "warnings.filterwarnings('ignore')\n"
      ],
      "execution_count": 1,
      "outputs": []
    },
    {
      "cell_type": "code",
      "metadata": {
        "id": "rJf2kg0kCV3r",
        "outputId": "fc965f0e-9823-46c9-e5f9-0e6360428db4",
        "colab": {
          "base_uri": "https://localhost:8080/",
          "height": 225
        }
      },
      "source": [
        "# carregando e verificando os dados\n",
        "df = pd.read_csv('https://www.dropbox.com/s/g9snf1eozls46kq/fake_news.csv?dl=1')\n",
        "\n",
        "print(df.shape)\n",
        "df.head()"
      ],
      "execution_count": 2,
      "outputs": [
        {
          "output_type": "stream",
          "text": [
            "(44898, 5)\n"
          ],
          "name": "stdout"
        },
        {
          "output_type": "execute_result",
          "data": {
            "text/html": [
              "<div>\n",
              "<style scoped>\n",
              "    .dataframe tbody tr th:only-of-type {\n",
              "        vertical-align: middle;\n",
              "    }\n",
              "\n",
              "    .dataframe tbody tr th {\n",
              "        vertical-align: top;\n",
              "    }\n",
              "\n",
              "    .dataframe thead th {\n",
              "        text-align: right;\n",
              "    }\n",
              "</style>\n",
              "<table border=\"1\" class=\"dataframe\">\n",
              "  <thead>\n",
              "    <tr style=\"text-align: right;\">\n",
              "      <th></th>\n",
              "      <th>title</th>\n",
              "      <th>text</th>\n",
              "      <th>subject</th>\n",
              "      <th>date</th>\n",
              "      <th>Target</th>\n",
              "    </tr>\n",
              "  </thead>\n",
              "  <tbody>\n",
              "    <tr>\n",
              "      <th>0</th>\n",
              "      <td>BREAKING: GOP Chairman Grassley Has Had Enoug...</td>\n",
              "      <td>Donald Trump s White House is in chaos, and th...</td>\n",
              "      <td>News</td>\n",
              "      <td>July 21, 2017</td>\n",
              "      <td>1</td>\n",
              "    </tr>\n",
              "    <tr>\n",
              "      <th>1</th>\n",
              "      <td>Failed GOP Candidates Remembered In Hilarious...</td>\n",
              "      <td>Now that Donald Trump is the presumptive GOP n...</td>\n",
              "      <td>News</td>\n",
              "      <td>May 7, 2016</td>\n",
              "      <td>1</td>\n",
              "    </tr>\n",
              "    <tr>\n",
              "      <th>2</th>\n",
              "      <td>Mike Pence’s New DC Neighbors Are HILARIOUSLY...</td>\n",
              "      <td>Mike Pence is a huge homophobe. He supports ex...</td>\n",
              "      <td>News</td>\n",
              "      <td>December 3, 2016</td>\n",
              "      <td>1</td>\n",
              "    </tr>\n",
              "    <tr>\n",
              "      <th>3</th>\n",
              "      <td>California AG pledges to defend birth control ...</td>\n",
              "      <td>SAN FRANCISCO (Reuters) - California Attorney ...</td>\n",
              "      <td>politicsNews</td>\n",
              "      <td>October 6, 2017</td>\n",
              "      <td>0</td>\n",
              "    </tr>\n",
              "    <tr>\n",
              "      <th>4</th>\n",
              "      <td>AZ RANCHERS Living On US-Mexico Border Destroy...</td>\n",
              "      <td>Twisted reasoning is all that comes from Pelos...</td>\n",
              "      <td>politics</td>\n",
              "      <td>Apr 25, 2017</td>\n",
              "      <td>1</td>\n",
              "    </tr>\n",
              "  </tbody>\n",
              "</table>\n",
              "</div>"
            ],
            "text/plain": [
              "                                               title  ... Target\n",
              "0   BREAKING: GOP Chairman Grassley Has Had Enoug...  ...      1\n",
              "1   Failed GOP Candidates Remembered In Hilarious...  ...      1\n",
              "2   Mike Pence’s New DC Neighbors Are HILARIOUSLY...  ...      1\n",
              "3  California AG pledges to defend birth control ...  ...      0\n",
              "4  AZ RANCHERS Living On US-Mexico Border Destroy...  ...      1\n",
              "\n",
              "[5 rows x 5 columns]"
            ]
          },
          "metadata": {
            "tags": []
          },
          "execution_count": 2
        }
      ]
    },
    {
      "cell_type": "markdown",
      "metadata": {
        "id": "FzaATUpMCvFS"
      },
      "source": [
        "### Os Dados\n",
        "Nosso conjunto de dados possui quase 45 mil linhas e 5 colunas, das quais temos:\n",
        "\n",
        "* `title` - Título da notícia\n",
        "* `text` - Texto da notícia\n",
        "* `subject` - Assunto da notícia\n",
        "* `date` - Data em que foi publicada\n",
        "* `Target` que é nossa variável alvo e está dividida em:\n",
        "  * True (Factual) = 0\n",
        "  * Fake (Falsa) = 1"
      ]
    },
    {
      "cell_type": "markdown",
      "metadata": {
        "id": "NygQ6CQ7CxvF"
      },
      "source": [
        "### Tratando os Dados\n",
        "\n",
        "Aqui, estamos lidando com nossa linguagem natural em formato de `string`, então precisamos de alguns conhecimentos de NLP para tratar esses dados da melhor forma, para que possam ser passados ao nosso modelo com sucesso, e dessa forma, obtermos os resultados que desejamos."
      ]
    },
    {
      "cell_type": "code",
      "metadata": {
        "id": "qswtJb7QC1V9",
        "outputId": "7923f733-5821-46fc-df57-909ec3001e23",
        "colab": {
          "base_uri": "https://localhost:8080/",
          "height": 206
        }
      },
      "source": [
        "# tratando do texto das notícias\n",
        "import string\n",
        "def clean_text (text):\n",
        "    words = str(text).split()\n",
        "    words = [i.lower() + \" \" for i in words]\n",
        "    words = \" \".join(words)\n",
        "    words = words.translate(words.maketrans('', '', string.punctuation))\n",
        "    return words\n",
        "\n",
        "df['text'] = df['text'].apply(clean_text)\n",
        "df.head()"
      ],
      "execution_count": 3,
      "outputs": [
        {
          "output_type": "execute_result",
          "data": {
            "text/html": [
              "<div>\n",
              "<style scoped>\n",
              "    .dataframe tbody tr th:only-of-type {\n",
              "        vertical-align: middle;\n",
              "    }\n",
              "\n",
              "    .dataframe tbody tr th {\n",
              "        vertical-align: top;\n",
              "    }\n",
              "\n",
              "    .dataframe thead th {\n",
              "        text-align: right;\n",
              "    }\n",
              "</style>\n",
              "<table border=\"1\" class=\"dataframe\">\n",
              "  <thead>\n",
              "    <tr style=\"text-align: right;\">\n",
              "      <th></th>\n",
              "      <th>title</th>\n",
              "      <th>text</th>\n",
              "      <th>subject</th>\n",
              "      <th>date</th>\n",
              "      <th>Target</th>\n",
              "    </tr>\n",
              "  </thead>\n",
              "  <tbody>\n",
              "    <tr>\n",
              "      <th>0</th>\n",
              "      <td>BREAKING: GOP Chairman Grassley Has Had Enoug...</td>\n",
              "      <td>donald  trump  s  white  house  is  in  chaos ...</td>\n",
              "      <td>News</td>\n",
              "      <td>July 21, 2017</td>\n",
              "      <td>1</td>\n",
              "    </tr>\n",
              "    <tr>\n",
              "      <th>1</th>\n",
              "      <td>Failed GOP Candidates Remembered In Hilarious...</td>\n",
              "      <td>now  that  donald  trump  is  the  presumptive...</td>\n",
              "      <td>News</td>\n",
              "      <td>May 7, 2016</td>\n",
              "      <td>1</td>\n",
              "    </tr>\n",
              "    <tr>\n",
              "      <th>2</th>\n",
              "      <td>Mike Pence’s New DC Neighbors Are HILARIOUSLY...</td>\n",
              "      <td>mike  pence  is  a  huge  homophobe  he  suppo...</td>\n",
              "      <td>News</td>\n",
              "      <td>December 3, 2016</td>\n",
              "      <td>1</td>\n",
              "    </tr>\n",
              "    <tr>\n",
              "      <th>3</th>\n",
              "      <td>California AG pledges to defend birth control ...</td>\n",
              "      <td>san  francisco  reuters    california  attorne...</td>\n",
              "      <td>politicsNews</td>\n",
              "      <td>October 6, 2017</td>\n",
              "      <td>0</td>\n",
              "    </tr>\n",
              "    <tr>\n",
              "      <th>4</th>\n",
              "      <td>AZ RANCHERS Living On US-Mexico Border Destroy...</td>\n",
              "      <td>twisted  reasoning  is  all  that  comes  from...</td>\n",
              "      <td>politics</td>\n",
              "      <td>Apr 25, 2017</td>\n",
              "      <td>1</td>\n",
              "    </tr>\n",
              "  </tbody>\n",
              "</table>\n",
              "</div>"
            ],
            "text/plain": [
              "                                               title  ... Target\n",
              "0   BREAKING: GOP Chairman Grassley Has Had Enoug...  ...      1\n",
              "1   Failed GOP Candidates Remembered In Hilarious...  ...      1\n",
              "2   Mike Pence’s New DC Neighbors Are HILARIOUSLY...  ...      1\n",
              "3  California AG pledges to defend birth control ...  ...      0\n",
              "4  AZ RANCHERS Living On US-Mexico Border Destroy...  ...      1\n",
              "\n",
              "[5 rows x 5 columns]"
            ]
          },
          "metadata": {
            "tags": []
          },
          "execution_count": 3
        }
      ]
    },
    {
      "cell_type": "markdown",
      "metadata": {
        "id": "dsJ0VyKEEBak"
      },
      "source": [
        "Agora, o que precisamos é separar nossos dados em treino, validação e teste, para que possamos continuar a trilhar o caminho que nos leva ao modelo."
      ]
    },
    {
      "cell_type": "code",
      "metadata": {
        "id": "2OFfZRJqEGlj",
        "outputId": "772aa295-0052-4c94-8e16-739736a914cd",
        "colab": {
          "base_uri": "https://localhost:8080/",
          "height": 90
        }
      },
      "source": [
        "# separando os datasets em treino, validação e teste\n",
        "from sklearn.model_selection import train_test_split\n",
        "\n",
        "train, test = train_test_split(df)\n",
        "train, validation = train_test_split(train, test_size = 0.2)\n",
        "print('Entradas por Dataset')\n",
        "print('Dataset de Treino:0',len(train), 'linhas.')\n",
        "print('Dataset de Validação:', len(validation), 'linhas.')\n",
        "print('Dataset de Teste:',len(test), 'linhas.')"
      ],
      "execution_count": 4,
      "outputs": [
        {
          "output_type": "stream",
          "text": [
            "Entradas por Dataset\n",
            "Dataset de Treino:0 26938 linhas.\n",
            "Dataset de Validação: 6735 linhas.\n",
            "Dataset de Teste: 11225 linhas.\n"
          ],
          "name": "stdout"
        }
      ]
    },
    {
      "cell_type": "markdown",
      "metadata": {
        "id": "h34WZl3iFBpl"
      },
      "source": [
        "### Pré-Processamento de Strings - NLP\n",
        "\n",
        "Aqui neste projeto estamos focando em ***Deep Learning*** e a implementação de **Redes Neurais**, por isso, não iremos nos extender em pré-processamento de Strings.\n",
        "\n",
        "De qualquer forma, esse é um ponto importante do projeto. Aqui, basicamente o que queremos é simplificar o texto, para que seja mais fácil do nosso modelo processar e entender. Por isso, iremos utilizar uma técnica que se chama ***Tokenizing***.\n",
        "\n",
        "Em suma, Tokenizing, ou Tokenização, em tradução livre, é um passo que separa longos textos de strings em pedaços de textos mais curtos, chamados de tokens.\n",
        "\n",
        "<p align=center>\n",
        "  <img src=\"https://www.kdnuggets.com/wp-content/uploads/text-tokens-tokenization-manning.jpg\" height=\"30%\">\n",
        "</p>\n",
        "\n",
        "Para ler mais sobre esse assunto e entender melhor os passos e parâmetros abaixo, deixarei links de referência [aqui](https://www.kdnuggets.com/2017/12/general-approach-preprocessing-text-data.html) e [aqui](https://www.kdnuggets.com/2020/03/tensorflow-keras-tokenization-text-data-prep.html)."
      ]
    },
    {
      "cell_type": "code",
      "metadata": {
        "id": "16TX3DU9FDLJ"
      },
      "source": [
        "# preparando os dados para o modelo\n",
        "from tensorflow.keras.preprocessing.text import Tokenizer\n",
        "from tensorflow.keras.preprocessing.sequence import pad_sequences\n",
        "\n",
        "vocab_size = 10000\n",
        "trunc_type = \"post\"\n",
        "pad_type = \"post\"\n",
        "oov_tok = \"<OOV>\"\n",
        "tokenizer = Tokenizer(num_words = vocab_size, oov_token=oov_tok)\n",
        "tokenizer.fit_on_texts(train.text)\n",
        "word_index = tokenizer.word_index\n",
        "\n",
        "# aplicando técnicas tokenizing e padding\n",
        "training_sequences = tokenizer.texts_to_sequences(np.array(train.text))\n",
        "training_padded = pad_sequences(training_sequences,truncating=trunc_type, padding=pad_type)\n",
        "\n",
        "max_length = len(training_padded[0])\n",
        "\n",
        "validation_sequences = tokenizer.texts_to_sequences(np.array(validation.text))\n",
        "validation_padded = pad_sequences(validation_sequences, padding=pad_type, truncating=trunc_type, maxlen = max_length)\n",
        "\n",
        "# criando arrays com inputs\n",
        "x_train = np.copy(training_padded)\n",
        "x_val = np.copy(validation_padded)\n",
        "y_train = train['Target'].values\n",
        "y_val = validation['Target'].values"
      ],
      "execution_count": 5,
      "outputs": []
    },
    {
      "cell_type": "code",
      "metadata": {
        "id": "PdBJTJ_0LQ2w",
        "outputId": "c45612d8-b077-488f-c4ef-d704d94d1510",
        "colab": {
          "base_uri": "https://localhost:8080/",
          "height": 72
        }
      },
      "source": [
        "# veriificando o tamanho dos arrays\n",
        "print('Tamanho dos Arrays')\n",
        "print('Treino: ', len(x_train), 'linhas.')\n",
        "print('Resposta: ', len(y_train), 'linhas.')"
      ],
      "execution_count": 6,
      "outputs": [
        {
          "output_type": "stream",
          "text": [
            "Tamanho dos Arrays\n",
            "Treino:  26938 linhas.\n",
            "Resposta:  26938 linhas.\n"
          ],
          "name": "stdout"
        }
      ]
    },
    {
      "cell_type": "markdown",
      "metadata": {
        "id": "8H8mbsBkMC68"
      },
      "source": [
        "### Preparando, Instanciando e Treinando o Modelo\n",
        "\n",
        "Agora que nossos dados estão prontos, é hora de ir ao que interessa.\n",
        "\n",
        "Foi feito um RandomSearch para encontrar os melhores parâmetros, em um processo lento e externo a este notebook, e instanciado um modelo que usa os melhores parâmetros encontrados."
      ]
    },
    {
      "cell_type": "code",
      "metadata": {
        "id": "qwL4sW2UMF__",
        "outputId": "c625be33-dd33-4712-c36b-4dc48ca45a14",
        "colab": {
          "base_uri": "https://localhost:8080/",
          "height": 127
        }
      },
      "source": [
        "# instanciando e dando fit no modelo\n",
        "model = tf.keras.Sequential ([\n",
        "        tf.keras.layers.Embedding(vocab_size, (155), input_length=max_length),\n",
        "        tf.keras.layers.Conv1D(16, 5, activation='relu'),\n",
        "        tf.keras.layers.GlobalMaxPooling1D(),\n",
        "        tf.keras.layers.Dense(1, activation='sigmoid')\n",
        "        ])\n",
        "model.compile(loss='binary_crossentropy',\n",
        "                        optimizer=tf.keras.optimizers.Adam(learning_rate= 0.001),\n",
        "                         metrics=['accuracy'])\n",
        "history = model.fit(x_train, y_train, verbose = 2, epochs = 3, validation_data = (x_val, y_val),\n",
        "                    callbacks=[tf.keras.callbacks.EarlyStopping('val_loss', patience=6)])\n"
      ],
      "execution_count": 7,
      "outputs": [
        {
          "output_type": "stream",
          "text": [
            "Epoch 1/3\n",
            "842/842 - 1163s - loss: 0.1014 - accuracy: 0.9673 - val_loss: 0.0081 - val_accuracy: 0.9975\n",
            "Epoch 2/3\n",
            "842/842 - 1153s - loss: 0.0047 - accuracy: 0.9988 - val_loss: 0.0039 - val_accuracy: 0.9988\n",
            "Epoch 3/3\n",
            "842/842 - 1152s - loss: 0.0014 - accuracy: 0.9997 - val_loss: 0.0032 - val_accuracy: 0.9985\n"
          ],
          "name": "stdout"
        }
      ]
    },
    {
      "cell_type": "markdown",
      "metadata": {
        "id": "HIzGm2JpS0Ya"
      },
      "source": [
        "Os resultados são bem promissores, apesar de carecerem de uma maior investigação. No entanto, cumpriu o objetivo de demonstrar o poder das Redes Neurais."
      ]
    },
    {
      "cell_type": "code",
      "metadata": {
        "id": "_QTbwps4S27l",
        "outputId": "bfe240e9-fbe9-43e3-d141-5f6053927d88",
        "colab": {
          "base_uri": "https://localhost:8080/",
          "height": 541
        }
      },
      "source": [
        "# visualizando os resultados\n",
        "def plot_graphs(history, string):\n",
        "  plt.plot(history.history[string])\n",
        "  plt.plot(history.history['val_'+string])\n",
        "  plt.xlabel(\"Epochs\")\n",
        "  plt.ylabel(string)\n",
        "  plt.legend([string, 'val_'+string])\n",
        "  plt.show()\n",
        "\n",
        "plot_graphs(history, \"accuracy\")\n",
        "plot_graphs(history, \"loss\")"
      ],
      "execution_count": 10,
      "outputs": [
        {
          "output_type": "display_data",
          "data": {
            "image/png": "[encoded data removed]",
            "text/plain": [
              "<Figure size 432x288 with 1 Axes>"
            ]
          },
          "metadata": {
            "tags": [],
            "needs_background": "light"
          }
        },
        {
          "output_type": "display_data",
          "data": {
            "image/png": "[encoded data removed]",
            "text/plain": [
              "<Figure size 432x288 with 1 Axes>"
            ]
          },
          "metadata": {
            "tags": [],
            "needs_background": "light"
          }
        }
      ]
    },
    {
      "cell_type": "markdown",
      "metadata": {
        "id": "E4UOmeknwwAN"
      },
      "source": [
        "### Fazendo Previsões no Conjunto de Teste\n",
        "\n",
        "Por fim, temos o pipeline ideal para tratar nossos dados, já treinamos, tunamos e obtivemos excelentes resultados em nosso conjunto de validação. Nosso modelo está pronto, mas ele tem mais uma missão a cumprir. \n",
        "\n",
        "Vamos apresentar dados completamente novos a ele, fazer previsõs e ver como ele se sai."
      ]
    },
    {
      "cell_type": "code",
      "metadata": {
        "id": "BBFqmfGOwzpd"
      },
      "source": [
        "# tratando os dados de teste\n",
        "test_sequences = tokenizer.texts_to_sequences(np.array(test.text))\n",
        "test_padded = pad_sequences(test_sequences, padding=pad_type, truncating=trunc_type, maxlen = max_length)\n"
      ],
      "execution_count": 11,
      "outputs": []
    },
    {
      "cell_type": "code",
      "metadata": {
        "id": "FCqiHlmy0RPy"
      },
      "source": [
        "# fazendo previsões\n",
        "preds = np.round(model.predict(test_padded))"
      ],
      "execution_count": 12,
      "outputs": []
    },
    {
      "cell_type": "code",
      "metadata": {
        "id": "Pdb3MHZc0do3",
        "outputId": "712f3373-f0c9-4cad-8f5d-8a9815f4dcdc",
        "colab": {
          "base_uri": "https://localhost:8080/",
          "height": 35
        }
      },
      "source": [
        "# conferindo o tamanho do resultado\n",
        "len(preds)"
      ],
      "execution_count": 13,
      "outputs": [
        {
          "output_type": "execute_result",
          "data": {
            "text/plain": [
              "11225"
            ]
          },
          "metadata": {
            "tags": []
          },
          "execution_count": 13
        }
      ]
    },
    {
      "cell_type": "code",
      "metadata": {
        "id": "0YCuXjmz0i9X",
        "outputId": "e94598a8-a3c3-403b-aa26-c9d4c7d8a4ad",
        "colab": {
          "base_uri": "https://localhost:8080/",
          "height": 35
        }
      },
      "source": [
        "# verificando a acurácia\n",
        "acc = np.sum(1 if i==j else 0 for i,j in zip(preds, test[\"Target\"].values)) / len(test)\n",
        "print(\"Accuracy:\", acc)"
      ],
      "execution_count": 15,
      "outputs": [
        {
          "output_type": "stream",
          "text": [
            "Accuracy: 0.9985746102449888\n"
          ],
          "name": "stdout"
        }
      ]
    }
  ]
}